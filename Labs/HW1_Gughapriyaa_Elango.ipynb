{
  "nbformat": 4,
  "nbformat_minor": 0,
  "metadata": {
    "colab": {
      "provenance": []
    },
    "kernelspec": {
      "name": "python3",
      "display_name": "Python 3"
    },
    "language_info": {
      "name": "python"
    }
  },
  "cells": [
    {
      "cell_type": "markdown",
      "source": [
        "HW1 : Gughapriyaa Elango<br>\n",
        "SU ID : 585992381"
      ],
      "metadata": {
        "id": "S_bltX1fDI1x"
      }
    },
    {
      "cell_type": "markdown",
      "source": [
        "Reading the cleaned happy db dataset using Pandas:"
      ],
      "metadata": {
        "id": "eN3yxyNqDauI"
      }
    },
    {
      "cell_type": "code",
      "execution_count": null,
      "metadata": {
        "id": "oH_byoHABg2B"
      },
      "outputs": [],
      "source": [
        "#Import pandas\n",
        "import pandas as pd\n",
        "#Read the csv file from github - happy moment expressions\n",
        "url =\"https://raw.githubusercontent.com/megagonlabs/HappyDB/master/happydb/data/cleaned_hm.csv\"\n",
        "happy_db=pd.read_csv(url)"
      ]
    },
    {
      "cell_type": "markdown",
      "source": [
        "Printing the head of the happy db dataset, we can see the happy moment expressions list containing 100534 elements:"
      ],
      "metadata": {
        "id": "tS-LcpP-Dt-O"
      }
    },
    {
      "cell_type": "code",
      "source": [
        "#Examine the happy moment expressions\n",
        "happy_db[\"cleaned_hm\"]"
      ],
      "metadata": {
        "colab": {
          "base_uri": "https://localhost:8080/"
        },
        "id": "tGGGMuamByzg",
        "outputId": "f781ebb8-eed3-4525-b744-fbe85c98ae8a"
      },
      "execution_count": null,
      "outputs": [
        {
          "output_type": "execute_result",
          "data": {
            "text/plain": [
              "0         I went on a successful date with someone I fel...\n",
              "1         I was happy when my son got 90% marks in his e...\n",
              "2              I went to the gym this morning and did yoga.\n",
              "3         We had a serious talk with some friends of our...\n",
              "4         I went with grandchildren to butterfly display...\n",
              "                                ...                        \n",
              "100530    My husband announced he is getting a decent bo...\n",
              "100531                         Had a can of Pepsi to drink.\n",
              "100532              Cuddling with my girlfriend last night.\n",
              "100533    I had a great meeting yesterday at work with m...\n",
              "100534                    I had a great workout last night.\n",
              "Name: cleaned_hm, Length: 100535, dtype: object"
            ]
          },
          "metadata": {},
          "execution_count": 48
        }
      ]
    },
    {
      "cell_type": "markdown",
      "source": [
        "Reading the people-dict lexicon which contains common social relationships using Pandas:"
      ],
      "metadata": {
        "id": "905kIMjqEAKI"
      }
    },
    {
      "cell_type": "code",
      "source": [
        "#Read the people-dict csv file to get the relationships lexicon\n",
        "url =\"https://raw.githubusercontent.com/megagonlabs/HappyDB/master/happydb/data/topic_dict/people-dict.csv\"\n",
        "people_dict = pd.read_csv(url)"
      ],
      "metadata": {
        "id": "TqH57JfDBy1w"
      },
      "execution_count": null,
      "outputs": []
    },
    {
      "cell_type": "markdown",
      "source": [
        "Printing few social relationships in the provided lexicon, we can see words like aunt, babies, best friend, bff"
      ],
      "metadata": {
        "id": "VpZRZ-PmEJrm"
      }
    },
    {
      "cell_type": "code",
      "source": [
        "#Print the head of the people-dict\n",
        "people_dict.head(10)"
      ],
      "metadata": {
        "colab": {
          "base_uri": "https://localhost:8080/",
          "height": 363
        },
        "id": "D8o3olMaBy4S",
        "outputId": "d3efb134-a570-40c4-cc0b-e67f58b940d3"
      },
      "execution_count": null,
      "outputs": [
        {
          "output_type": "execute_result",
          "data": {
            "text/plain": [
              "          aunt\n",
              "0       auntie\n",
              "1      aunties\n",
              "2        aunts\n",
              "3        aunty\n",
              "4       babies\n",
              "5         baby\n",
              "6          bae\n",
              "7  best friend\n",
              "8   bestfriend\n",
              "9  bestfriends"
            ],
            "text/html": [
              "\n",
              "  <div id=\"df-dfd2570a-5ecb-415a-9216-dddab5b54f85\" class=\"colab-df-container\">\n",
              "    <div>\n",
              "<style scoped>\n",
              "    .dataframe tbody tr th:only-of-type {\n",
              "        vertical-align: middle;\n",
              "    }\n",
              "\n",
              "    .dataframe tbody tr th {\n",
              "        vertical-align: top;\n",
              "    }\n",
              "\n",
              "    .dataframe thead th {\n",
              "        text-align: right;\n",
              "    }\n",
              "</style>\n",
              "<table border=\"1\" class=\"dataframe\">\n",
              "  <thead>\n",
              "    <tr style=\"text-align: right;\">\n",
              "      <th></th>\n",
              "      <th>aunt</th>\n",
              "    </tr>\n",
              "  </thead>\n",
              "  <tbody>\n",
              "    <tr>\n",
              "      <th>0</th>\n",
              "      <td>auntie</td>\n",
              "    </tr>\n",
              "    <tr>\n",
              "      <th>1</th>\n",
              "      <td>aunties</td>\n",
              "    </tr>\n",
              "    <tr>\n",
              "      <th>2</th>\n",
              "      <td>aunts</td>\n",
              "    </tr>\n",
              "    <tr>\n",
              "      <th>3</th>\n",
              "      <td>aunty</td>\n",
              "    </tr>\n",
              "    <tr>\n",
              "      <th>4</th>\n",
              "      <td>babies</td>\n",
              "    </tr>\n",
              "    <tr>\n",
              "      <th>5</th>\n",
              "      <td>baby</td>\n",
              "    </tr>\n",
              "    <tr>\n",
              "      <th>6</th>\n",
              "      <td>bae</td>\n",
              "    </tr>\n",
              "    <tr>\n",
              "      <th>7</th>\n",
              "      <td>best friend</td>\n",
              "    </tr>\n",
              "    <tr>\n",
              "      <th>8</th>\n",
              "      <td>bestfriend</td>\n",
              "    </tr>\n",
              "    <tr>\n",
              "      <th>9</th>\n",
              "      <td>bestfriends</td>\n",
              "    </tr>\n",
              "  </tbody>\n",
              "</table>\n",
              "</div>\n",
              "    <div class=\"colab-df-buttons\">\n",
              "\n",
              "  <div class=\"colab-df-container\">\n",
              "    <button class=\"colab-df-convert\" onclick=\"convertToInteractive('df-dfd2570a-5ecb-415a-9216-dddab5b54f85')\"\n",
              "            title=\"Convert this dataframe to an interactive table.\"\n",
              "            style=\"display:none;\">\n",
              "\n",
              "  <svg xmlns=\"http://www.w3.org/2000/svg\" height=\"24px\" viewBox=\"0 -960 960 960\">\n",
              "    <path d=\"M120-120v-720h720v720H120Zm60-500h600v-160H180v160Zm220 220h160v-160H400v160Zm0 220h160v-160H400v160ZM180-400h160v-160H180v160Zm440 0h160v-160H620v160ZM180-180h160v-160H180v160Zm440 0h160v-160H620v160Z\"/>\n",
              "  </svg>\n",
              "    </button>\n",
              "\n",
              "  <style>\n",
              "    .colab-df-container {\n",
              "      display:flex;\n",
              "      gap: 12px;\n",
              "    }\n",
              "\n",
              "    .colab-df-convert {\n",
              "      background-color: #E8F0FE;\n",
              "      border: none;\n",
              "      border-radius: 50%;\n",
              "      cursor: pointer;\n",
              "      display: none;\n",
              "      fill: #1967D2;\n",
              "      height: 32px;\n",
              "      padding: 0 0 0 0;\n",
              "      width: 32px;\n",
              "    }\n",
              "\n",
              "    .colab-df-convert:hover {\n",
              "      background-color: #E2EBFA;\n",
              "      box-shadow: 0px 1px 2px rgba(60, 64, 67, 0.3), 0px 1px 3px 1px rgba(60, 64, 67, 0.15);\n",
              "      fill: #174EA6;\n",
              "    }\n",
              "\n",
              "    .colab-df-buttons div {\n",
              "      margin-bottom: 4px;\n",
              "    }\n",
              "\n",
              "    [theme=dark] .colab-df-convert {\n",
              "      background-color: #3B4455;\n",
              "      fill: #D2E3FC;\n",
              "    }\n",
              "\n",
              "    [theme=dark] .colab-df-convert:hover {\n",
              "      background-color: #434B5C;\n",
              "      box-shadow: 0px 1px 3px 1px rgba(0, 0, 0, 0.15);\n",
              "      filter: drop-shadow(0px 1px 2px rgba(0, 0, 0, 0.3));\n",
              "      fill: #FFFFFF;\n",
              "    }\n",
              "  </style>\n",
              "\n",
              "    <script>\n",
              "      const buttonEl =\n",
              "        document.querySelector('#df-dfd2570a-5ecb-415a-9216-dddab5b54f85 button.colab-df-convert');\n",
              "      buttonEl.style.display =\n",
              "        google.colab.kernel.accessAllowed ? 'block' : 'none';\n",
              "\n",
              "      async function convertToInteractive(key) {\n",
              "        const element = document.querySelector('#df-dfd2570a-5ecb-415a-9216-dddab5b54f85');\n",
              "        const dataTable =\n",
              "          await google.colab.kernel.invokeFunction('convertToInteractive',\n",
              "                                                    [key], {});\n",
              "        if (!dataTable) return;\n",
              "\n",
              "        const docLinkHtml = 'Like what you see? Visit the ' +\n",
              "          '<a target=\"_blank\" href=https://colab.research.google.com/notebooks/data_table.ipynb>data table notebook</a>'\n",
              "          + ' to learn more about interactive tables.';\n",
              "        element.innerHTML = '';\n",
              "        dataTable['output_type'] = 'display_data';\n",
              "        await google.colab.output.renderOutput(dataTable, element);\n",
              "        const docLink = document.createElement('div');\n",
              "        docLink.innerHTML = docLinkHtml;\n",
              "        element.appendChild(docLink);\n",
              "      }\n",
              "    </script>\n",
              "  </div>\n",
              "\n",
              "\n",
              "<div id=\"df-1a86dee6-8400-47af-ad72-8979e490bcf7\">\n",
              "  <button class=\"colab-df-quickchart\" onclick=\"quickchart('df-1a86dee6-8400-47af-ad72-8979e490bcf7')\"\n",
              "            title=\"Suggest charts.\"\n",
              "            style=\"display:none;\">\n",
              "\n",
              "<svg xmlns=\"http://www.w3.org/2000/svg\" height=\"24px\"viewBox=\"0 0 24 24\"\n",
              "     width=\"24px\">\n",
              "    <g>\n",
              "        <path d=\"M19 3H5c-1.1 0-2 .9-2 2v14c0 1.1.9 2 2 2h14c1.1 0 2-.9 2-2V5c0-1.1-.9-2-2-2zM9 17H7v-7h2v7zm4 0h-2V7h2v10zm4 0h-2v-4h2v4z\"/>\n",
              "    </g>\n",
              "</svg>\n",
              "  </button>\n",
              "\n",
              "<style>\n",
              "  .colab-df-quickchart {\n",
              "      --bg-color: #E8F0FE;\n",
              "      --fill-color: #1967D2;\n",
              "      --hover-bg-color: #E2EBFA;\n",
              "      --hover-fill-color: #174EA6;\n",
              "      --disabled-fill-color: #AAA;\n",
              "      --disabled-bg-color: #DDD;\n",
              "  }\n",
              "\n",
              "  [theme=dark] .colab-df-quickchart {\n",
              "      --bg-color: #3B4455;\n",
              "      --fill-color: #D2E3FC;\n",
              "      --hover-bg-color: #434B5C;\n",
              "      --hover-fill-color: #FFFFFF;\n",
              "      --disabled-bg-color: #3B4455;\n",
              "      --disabled-fill-color: #666;\n",
              "  }\n",
              "\n",
              "  .colab-df-quickchart {\n",
              "    background-color: var(--bg-color);\n",
              "    border: none;\n",
              "    border-radius: 50%;\n",
              "    cursor: pointer;\n",
              "    display: none;\n",
              "    fill: var(--fill-color);\n",
              "    height: 32px;\n",
              "    padding: 0;\n",
              "    width: 32px;\n",
              "  }\n",
              "\n",
              "  .colab-df-quickchart:hover {\n",
              "    background-color: var(--hover-bg-color);\n",
              "    box-shadow: 0 1px 2px rgba(60, 64, 67, 0.3), 0 1px 3px 1px rgba(60, 64, 67, 0.15);\n",
              "    fill: var(--button-hover-fill-color);\n",
              "  }\n",
              "\n",
              "  .colab-df-quickchart-complete:disabled,\n",
              "  .colab-df-quickchart-complete:disabled:hover {\n",
              "    background-color: var(--disabled-bg-color);\n",
              "    fill: var(--disabled-fill-color);\n",
              "    box-shadow: none;\n",
              "  }\n",
              "\n",
              "  .colab-df-spinner {\n",
              "    border: 2px solid var(--fill-color);\n",
              "    border-color: transparent;\n",
              "    border-bottom-color: var(--fill-color);\n",
              "    animation:\n",
              "      spin 1s steps(1) infinite;\n",
              "  }\n",
              "\n",
              "  @keyframes spin {\n",
              "    0% {\n",
              "      border-color: transparent;\n",
              "      border-bottom-color: var(--fill-color);\n",
              "      border-left-color: var(--fill-color);\n",
              "    }\n",
              "    20% {\n",
              "      border-color: transparent;\n",
              "      border-left-color: var(--fill-color);\n",
              "      border-top-color: var(--fill-color);\n",
              "    }\n",
              "    30% {\n",
              "      border-color: transparent;\n",
              "      border-left-color: var(--fill-color);\n",
              "      border-top-color: var(--fill-color);\n",
              "      border-right-color: var(--fill-color);\n",
              "    }\n",
              "    40% {\n",
              "      border-color: transparent;\n",
              "      border-right-color: var(--fill-color);\n",
              "      border-top-color: var(--fill-color);\n",
              "    }\n",
              "    60% {\n",
              "      border-color: transparent;\n",
              "      border-right-color: var(--fill-color);\n",
              "    }\n",
              "    80% {\n",
              "      border-color: transparent;\n",
              "      border-right-color: var(--fill-color);\n",
              "      border-bottom-color: var(--fill-color);\n",
              "    }\n",
              "    90% {\n",
              "      border-color: transparent;\n",
              "      border-bottom-color: var(--fill-color);\n",
              "    }\n",
              "  }\n",
              "</style>\n",
              "\n",
              "  <script>\n",
              "    async function quickchart(key) {\n",
              "      const quickchartButtonEl =\n",
              "        document.querySelector('#' + key + ' button');\n",
              "      quickchartButtonEl.disabled = true;  // To prevent multiple clicks.\n",
              "      quickchartButtonEl.classList.add('colab-df-spinner');\n",
              "      try {\n",
              "        const charts = await google.colab.kernel.invokeFunction(\n",
              "            'suggestCharts', [key], {});\n",
              "      } catch (error) {\n",
              "        console.error('Error during call to suggestCharts:', error);\n",
              "      }\n",
              "      quickchartButtonEl.classList.remove('colab-df-spinner');\n",
              "      quickchartButtonEl.classList.add('colab-df-quickchart-complete');\n",
              "    }\n",
              "    (() => {\n",
              "      let quickchartButtonEl =\n",
              "        document.querySelector('#df-1a86dee6-8400-47af-ad72-8979e490bcf7 button');\n",
              "      quickchartButtonEl.style.display =\n",
              "        google.colab.kernel.accessAllowed ? 'block' : 'none';\n",
              "    })();\n",
              "  </script>\n",
              "</div>\n",
              "    </div>\n",
              "  </div>\n"
            ]
          },
          "metadata": {},
          "execution_count": 50
        }
      ]
    },
    {
      "cell_type": "markdown",
      "source": [
        "**Task 1:** Top three social relationships mentioned in happy moments. <br>\n",
        "First we tokenize the happy expressions by splitting them into individual words using a for loop. Then each token is tested its presence in the lexicon. If the word is present, we add a count and move to next token."
      ],
      "metadata": {
        "id": "YcVbxI2WEf58"
      }
    },
    {
      "cell_type": "code",
      "source": [
        "#Define a empty list\n",
        "relationship_counts = {}\n",
        "#Iterate through the expression list and tokenize\n",
        "for item in happy_db['cleaned_hm']:\n",
        "  tokens = item.lower().split()\n",
        "  #Iterate through the tokens list\n",
        "  for token in tokens:\n",
        "    #Add 1 if token is present in people_dict else dont add 1\n",
        "        if token in people_dict.values:\n",
        "            if token in relationship_counts:\n",
        "                relationship_counts[token] += 1\n",
        "            else:\n",
        "                relationship_counts[token] = 1"
      ],
      "metadata": {
        "id": "U7Nxw0CUBy60"
      },
      "execution_count": null,
      "outputs": []
    },
    {
      "cell_type": "markdown",
      "source": [
        "Now that we have counted the relationships, lets print the most frequently occurring relationships and the count of their frequency of occurence."
      ],
      "metadata": {
        "id": "aW_h4YcQHnWc"
      }
    },
    {
      "cell_type": "code",
      "source": [
        "#Sort and reverse the list and get the top 5 in descending order\n",
        "top_relationships = sorted(relationship_counts.items(), key=lambda x: x[1], reverse=True)[:5]"
      ],
      "metadata": {
        "id": "Sum95FL4Eag-"
      },
      "execution_count": null,
      "outputs": []
    },
    {
      "cell_type": "code",
      "source": [
        "#Iterate through the top relationships ad print relationship and count of each\n",
        "for relationship, count in top_relationships:\n",
        "    print(f\"{relationship}: {count}\")"
      ],
      "metadata": {
        "colab": {
          "base_uri": "https://localhost:8080/"
        },
        "id": "J_4tSWQ8Eajw",
        "outputId": "e8854dd9-6fca-41d7-cdec-1deb3701a14f"
      },
      "execution_count": null,
      "outputs": [
        {
          "output_type": "stream",
          "name": "stdout",
          "text": [
            "friend: 4918\n",
            "family: 3546\n",
            "friends: 3338\n",
            "son: 2878\n",
            "daughter: 2698\n"
          ]
        }
      ]
    },
    {
      "cell_type": "markdown",
      "source": [
        "We find that \"friend\", \"family\" and \"friends\" are three most commonly occuring relationship words. After \"friends\", \"son\" and \"daughter\" are the most frequently occuring words."
      ],
      "metadata": {
        "id": "vOHUZKCgHw2N"
      }
    },
    {
      "cell_type": "markdown",
      "source": [
        "**Task 2:** with whom do people spend their happy moments?<br><br>\n",
        "**Strengths:**<br>\n",
        "The nature of the lexicon in its very structured way will be helpful in analysis of common social relationships. The relationship words also include plural variances like \"aunties\", \"babies\". It also includes a lot of colloquial or internet language like \"bff\", \"bestie\" which can help us in analysing natural language texts. It also covers different spellings like \"fiance\" and \"fiancé\". Certain expressions like \"only son\" have a different emotional bearing than just mentioning \"son\", and the lexicon has done a good job in covering that.\n",
        "\n",
        "**Weaknesses:**<br>\n",
        "The list has few notable weaknesses. It hasn't covered culturally specific words like \"Ma\" or \"Mom-in-law\" which is more common than we may think. This list could suffer from cultural bias and could have been more exhaustive to cover more variances. The list can also be more context-specific like \"partner\" could mean a domestic partner or a professional partner at work.\n"
      ],
      "metadata": {
        "id": "rKhNvz9PH8vZ"
      }
    },
    {
      "cell_type": "markdown",
      "source": [
        "**Task 3:** Rebuild lexicon and run Task 1 again"
      ],
      "metadata": {
        "id": "wv8qycRHK6Wf"
      }
    },
    {
      "cell_type": "code",
      "source": [
        "#Adding more words to the relationship lexicon dataframe that i think might improve it\n",
        "new_items = [\"ma\",\"mom-in-law\"]\n",
        "new_people_dict = people_dict.append(new_items,ignore_index=True)"
      ],
      "metadata": {
        "colab": {
          "base_uri": "https://localhost:8080/"
        },
        "id": "4vlzbSnxPTdM",
        "outputId": "008ccd0c-ad10-4f06-e316-7a15cca05cbf"
      },
      "execution_count": null,
      "outputs": [
        {
          "output_type": "stream",
          "name": "stderr",
          "text": [
            "<ipython-input-54-49bc3a11dffb>:3: FutureWarning: The frame.append method is deprecated and will be removed from pandas in a future version. Use pandas.concat instead.\n",
            "  new_people_dict = people_dict.append(new_items,ignore_index=True)\n"
          ]
        }
      ]
    },
    {
      "cell_type": "code",
      "source": [
        "#Define a empty list\n",
        "relationship_counts = {}\n",
        "#Iterate through the expression list and tokenize\n",
        "for item in happy_db['cleaned_hm']:\n",
        "  tokens = item.lower().split()\n",
        "  #Iterate through the tokens list\n",
        "  for token in tokens:\n",
        "    #Add 1 if token is present in new_people_dict else dont add 1\n",
        "        if token in new_people_dict.values:\n",
        "            if token in relationship_counts:\n",
        "                relationship_counts[token] += 1\n",
        "            else:\n",
        "                relationship_counts[token] = 1\n",
        "\n",
        "#Sort and reverse the list and get the top 5 in descending order\n",
        "top_relationships = sorted(relationship_counts.items(), key=lambda x: x[1], reverse=True)[:5]\n",
        "\n",
        "#Iterate through the top relationships ad print relationship and count of each\n",
        "for relationship, count in top_relationships:\n",
        "    print(f\"{relationship}: {count}\")"
      ],
      "metadata": {
        "colab": {
          "base_uri": "https://localhost:8080/"
        },
        "id": "DyTJAjZiP1Gp",
        "outputId": "58aa6ba8-77fa-4f95-a710-b15e970a3afc"
      },
      "execution_count": null,
      "outputs": [
        {
          "output_type": "stream",
          "name": "stdout",
          "text": [
            "friend: 4918\n",
            "family: 3546\n",
            "friends: 3338\n",
            "son: 2878\n",
            "daughter: 2698\n"
          ]
        }
      ]
    },
    {
      "cell_type": "markdown",
      "source": [
        "I dont see any change in the first task results. However I still stand by the opinion that the list can be more culturally inclusive and more exhaustive."
      ],
      "metadata": {
        "id": "m2kbTU25Q8xc"
      }
    },
    {
      "cell_type": "markdown",
      "source": [
        "**Task 4:** Extract five context words before and after the most mentioned people, sort by frequency, and explore patterns in the 100 most frequent context words, for example, any words indicating activities that people do in happy moments?"
      ],
      "metadata": {
        "id": "Bjx7YmrjK6Yw"
      }
    },
    {
      "cell_type": "code",
      "source": [
        "from collections import Counter\n",
        "context_word_counts = Counter()\n",
        "#Iterate the happy_db cleaned expression list and tokenize\n",
        "for item, happy_moment in enumerate(happy_db['cleaned_hm']):\n",
        "    tokens = happy_moment.lower().split()\n",
        "\n",
        "    # Iterate the top relationships found above:\n",
        "    for relationship,count_re in top_relationships:\n",
        "        # Find occurrences of the relationship's name in expression and get index\n",
        "        if relationship in tokens:\n",
        "            relationship_index = tokens.index(relationship)\n",
        "            # Extract the five words before and after the relationship's name\n",
        "            context_start = max(0, relationship_index - 5)\n",
        "            context_end = min(len(tokens), relationship_index + 6)\n",
        "            context_words = tokens[context_start:context_end]\n",
        "            # Remove the relationship's name from context words so we have only context\n",
        "            context_words.remove(relationship)\n",
        "            # Get the frequency count of context words\n",
        "            context_word_counts.update(context_words)\n",
        "\n",
        "# Get the 100 most frequent context words\n",
        "top_context_words = context_word_counts.most_common(100)\n",
        "\n",
        "for word, count in top_context_words:\n",
        "    print(f\"{word}: {count}\")"
      ],
      "metadata": {
        "colab": {
          "base_uri": "https://localhost:8080/"
        },
        "id": "Bbvg5__3H2kQ",
        "outputId": "ff8d834e-e223-43bb-8e8e-7f44823bced6"
      },
      "execution_count": null,
      "outputs": [
        {
          "output_type": "stream",
          "name": "stdout",
          "text": [
            "my: 12860\n",
            "a: 6356\n",
            "and: 5240\n",
            "to: 4739\n",
            "i: 4604\n",
            "with: 4593\n",
            "the: 2615\n",
            "me: 2358\n",
            "for: 2112\n",
            "in: 1832\n",
            "of: 1806\n",
            "was: 1720\n",
            "that: 1244\n",
            "had: 1057\n",
            "old: 1044\n",
            "from: 1009\n",
            "we: 919\n",
            "went: 915\n",
            "got: 885\n",
            "on: 870\n",
            "at: 866\n",
            "out: 829\n",
            "her: 824\n",
            "when: 797\n",
            "his: 778\n",
            "best: 770\n",
            "happy: 717\n",
            "an: 716\n",
            "is: 645\n",
            "made: 603\n",
            "some: 589\n",
            "time: 534\n",
            "all: 527\n",
            "first: 489\n",
            "who: 483\n",
            "came: 481\n",
            "last: 479\n",
            "our: 477\n",
            "after: 469\n",
            "birthday: 468\n",
            "it: 462\n",
            "good: 462\n",
            "very: 459\n",
            "new: 449\n",
            "met: 441\n",
            "dinner: 421\n",
            "day: 417\n",
            "school: 415\n",
            "one: 412\n",
            "up: 409\n",
            "she: 404\n",
            "see: 398\n",
            "seen: 389\n",
            "members: 356\n",
            "he: 335\n",
            "party: 320\n",
            "took: 316\n",
            "family: 312\n",
            "this: 311\n",
            "year: 299\n",
            "home: 297\n",
            "over: 292\n",
            "have: 288\n",
            "so: 288\n",
            "mine: 284\n",
            "gave: 279\n",
            "visit: 268\n",
            "going: 261\n",
            "long: 259\n",
            "not: 251\n",
            "saw: 249\n",
            "told: 249\n",
            "able: 243\n",
            "yesterday: 243\n",
            "haven't: 242\n",
            "by: 241\n",
            "talked: 239\n",
            "friends: 232\n",
            "about: 227\n",
            "are: 223\n",
            "month: 215\n",
            "has: 209\n",
            "enjoyed: 207\n",
            "lot: 206\n",
            "hadn't: 206\n",
            "lunch: 201\n",
            "close: 199\n",
            "night: 198\n",
            "go: 195\n",
            "today: 193\n",
            "great: 187\n",
            "play: 185\n",
            "as: 185\n",
            "started: 185\n",
            "get: 183\n",
            "trip: 181\n",
            "called: 179\n",
            "into: 179\n",
            "watching: 178\n",
            "were: 175\n"
          ]
        }
      ]
    },
    {
      "cell_type": "markdown",
      "source": [
        "**Patterns in the contextual words:**\n",
        "\n",
        "After printing the 100 most commonly occuring context words, we see few patterns in them. Contextual words like \"birthday\" \"first\" indicate that people remember their happy moments on special occassions like birthdays or first days like first day of school or college or work. <br>\n",
        "We can also observe activities like \"lunch\" \"play\" \"visit\" \"dinner\" \"party\" \"trip\" \"watching\" that indicate what people do during these happy moments. <br>\n",
        "Words like \"school\" and \"home\" indicate people associate few places in their happy expressions more.<br>\n",
        "It is also notable to add that words like \"enjoyed\" \"took\" \"called\" \"started\" are expressing the supportive words of activities people undertake."
      ],
      "metadata": {
        "id": "UymF-k9YRC3N"
      }
    }
  ]
}